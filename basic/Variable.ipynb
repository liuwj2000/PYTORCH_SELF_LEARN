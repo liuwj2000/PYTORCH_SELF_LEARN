{
 "cells": [
  {
   "cell_type": "markdown",
   "metadata": {},
   "source": [
    "# pytorch 基础"
   ]
  },
  {
   "cell_type": "code",
   "execution_count": 6,
   "metadata": {},
   "outputs": [],
   "source": [
    "import torch\n",
    "from torch.autograd import Variable"
   ]
  },
  {
   "cell_type": "raw",
   "metadata": {},
   "source": [
    "这个概念是Variable，变量\n",
    "这个是神经网络计算图里面独有的一个概念，提供了自动求导的功能\n",
    "variable会被放入一个计算图中，然后进行前向传播，反向传播，自动求导等"
   ]
  },
  {
   "cell_type": "raw",
   "metadata": {},
   "source": [
    "Variable有三个比较重要的组成属性 data，grad，grad_fn\n",
    "通过data可以取出Variable里面的tensor数值\n",
    "grad_fn表示的是得到目前这个Variable的操作（比如是上一步通过加减乘除得到的）\n",
    "grad反映这个Variable的反向传播梯度"
   ]
  },
  {
   "cell_type": "code",
   "execution_count": 7,
   "metadata": {},
   "outputs": [],
   "source": [
    "x=Variable(torch.Tensor([1]),requires_grad=True)\n",
    "w=Variable(torch.Tensor([2]),requires_grad=True)\n",
    "b=Variable(torch.Tensor([3]),requires_grad=True)\n",
    "#创建Variable\n"
   ]
  },
  {
   "cell_type": "code",
   "execution_count": 11,
   "metadata": {},
   "outputs": [],
   "source": [
    "#建造一个计算图\n",
    "y=w*x+b\n",
    "#也就是y=2*x+3"
   ]
  },
  {
   "cell_type": "code",
   "execution_count": 12,
   "metadata": {},
   "outputs": [
    {
     "name": "stdout",
     "output_type": "stream",
     "text": [
      "tensor([4.])\n",
      "None\n",
      "tensor([3.])\n",
      "tensor([2.])\n"
     ]
    }
   ],
   "source": [
    "#计算梯度\n",
    "y.backward()\n",
    "#对所有的需要梯度的变量进行求导\n",
    "print(x.grad)\n",
    "print(y.grad)\n",
    "print(b.grad)\n",
    "print(w.grad)"
   ]
  },
  {
   "cell_type": "code",
   "execution_count": 20,
   "metadata": {},
   "outputs": [
    {
     "name": "stdout",
     "output_type": "stream",
     "text": [
      "tensor([[2.0000e+00, 2.0000e-01, 2.0000e-02],\n",
      "        [2.0000e+00, 2.0000e+01, 2.0000e+02]])\n"
     ]
    }
   ],
   "source": [
    "#也可以对矩阵进行求导\n",
    "x=torch.randn((2,3))\n",
    "x=Variable(x,requires_grad=True)\n",
    "y=x*2\n",
    "y.backward(torch.FloatTensor([[1,0.1,0.01],[1,10,100]]))\n",
    "print(x.grad)\n"
   ]
  },
  {
   "cell_type": "raw",
   "metadata": {},
   "source": [
    "得到每个分量的梯度，也就是他们原本的梯度乘/除1，0.1，0.01"
   ]
  }
 ],
 "metadata": {
  "kernelspec": {
   "display_name": "Python 3",
   "language": "python",
   "name": "python3"
  },
  "language_info": {
   "codemirror_mode": {
    "name": "ipython",
    "version": 3
   },
   "file_extension": ".py",
   "mimetype": "text/x-python",
   "name": "python",
   "nbconvert_exporter": "python",
   "pygments_lexer": "ipython3",
   "version": "3.7.1"
  }
 },
 "nbformat": 4,
 "nbformat_minor": 2
}
