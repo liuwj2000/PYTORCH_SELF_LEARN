{
 "cells": [
  {
   "cell_type": "code",
   "execution_count": 8,
   "metadata": {
    "scrolled": true
   },
   "outputs": [
    {
     "name": "stdout",
     "output_type": "stream",
     "text": [
      "a is: tensor([[2., 3.],\n",
      "        [4., 8.],\n",
      "        [7., 9.]])\n",
      "a size is: torch.Size([3, 2])\n",
      "a is: torch.FloatTensor\n"
     ]
    }
   ],
   "source": [
    "import torch\n",
    "a=torch.Tensor([[2,3],[4,8],[7,9]])\n",
    "#pytorch里面最基本的处理对象就是Tensor（张量），上面一步建立一个张量\n",
    "print('a is:',a)\n",
    "print('a size is:',a.size())\n",
    "print('a type is:',a.type())\n",
    "#torch.Tensor默认类型是torch.FloatTensor数据类型"
   ]
  },
  {
   "cell_type": "code",
   "execution_count": 9,
   "metadata": {},
   "outputs": [
    {
     "name": "stdout",
     "output_type": "stream",
     "text": [
      "b is: tensor([[2, 3],\n",
      "        [4, 8],\n",
      "        [7, 9]])\n",
      "b size is: torch.Size([3, 2])\n",
      "b type is: torch.LongTensor\n"
     ]
    }
   ],
   "source": [
    "b=torch.LongTensor([[2,3],[4,8],[7,9]])\n",
    "print('b is:',b)\n",
    "print('b size is:',b.size())\n",
    "print('b type is:',b.type())"
   ]
  },
  {
   "cell_type": "code",
   "execution_count": 10,
   "metadata": {},
   "outputs": [
    {
     "name": "stdout",
     "output_type": "stream",
     "text": [
      "c is tensor([[0., 0.],\n",
      "        [0., 0.],\n",
      "        [0., 0.]])\n"
     ]
    }
   ],
   "source": [
    "#建立一个全是0的空的Tensor\n",
    "c=torch.zeros((3,2))\n",
    "print('c is',c)"
   ]
  },
  {
   "cell_type": "code",
   "execution_count": 12,
   "metadata": {},
   "outputs": [
    {
     "name": "stdout",
     "output_type": "stream",
     "text": [
      "d is tensor([[-0.3762,  0.4548],\n",
      "        [ 0.1978, -0.5922],\n",
      "        [-0.3937,  0.0578]])\n"
     ]
    }
   ],
   "source": [
    "#建立一个以正态分布为随机初始值的tensor\n",
    "d=torch.randn((3,2))\n",
    "print('d is',d)"
   ]
  },
  {
   "cell_type": "code",
   "execution_count": 13,
   "metadata": {},
   "outputs": [
    {
     "name": "stdout",
     "output_type": "stream",
     "text": [
      "a is: tensor([[2., 3.],\n",
      "        [4., 8.],\n",
      "        [7., 9.]])\n",
      "a is: tensor([[  2., 100.],\n",
      "        [  4.,   8.],\n",
      "        [  7.,   9.]])\n"
     ]
    }
   ],
   "source": [
    "print('a is:',a)\n",
    "#修改a的值\n",
    "a[0,1]=100\n",
    "print('a is:',a)"
   ]
  },
  {
   "cell_type": "code",
   "execution_count": 14,
   "metadata": {},
   "outputs": [
    {
     "name": "stdout",
     "output_type": "stream",
     "text": [
      "[[  2. 100.]\n",
      " [  4.   8.]\n",
      " [  7.   9.]]\n",
      "tensor([[2, 3],\n",
      "        [4, 5]], dtype=torch.int32)\n"
     ]
    }
   ],
   "source": [
    "import numpy as np\n",
    "numpy_a=a.numpy()\n",
    "print(numpy_a)\n",
    "#torch.Tensor转换成ndarray\n",
    "\n",
    "e=np.array([[2,3],[4,5]])\n",
    "torch_e=torch.from_numpy(e)\n",
    "print(torch_e)"
   ]
  },
  {
   "cell_type": "code",
   "execution_count": 15,
   "metadata": {},
   "outputs": [
    {
     "data": {
      "text/plain": [
       "False"
      ]
     },
     "execution_count": 15,
     "metadata": {},
     "output_type": "execute_result"
    }
   ],
   "source": [
    "torch.cuda.is_available()\n",
    "#判断是否支持GPU"
   ]
  },
  {
   "cell_type": "code",
   "execution_count": null,
   "metadata": {},
   "outputs": [],
   "source": []
  }
 ],
 "metadata": {
  "kernelspec": {
   "display_name": "Python 3",
   "language": "python",
   "name": "python3"
  },
  "language_info": {
   "codemirror_mode": {
    "name": "ipython",
    "version": 3
   },
   "file_extension": ".py",
   "mimetype": "text/x-python",
   "name": "python",
   "nbconvert_exporter": "python",
   "pygments_lexer": "ipython3",
   "version": "3.7.1"
  }
 },
 "nbformat": 4,
 "nbformat_minor": 2
}
